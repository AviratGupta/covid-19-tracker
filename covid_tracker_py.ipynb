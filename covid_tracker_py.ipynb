{
  "nbformat": 4,
  "nbformat_minor": 0,
  "metadata": {
    "colab": {
      "name": "covid tracker.py",
      "provenance": [],
      "authorship_tag": "ABX9TyOlu4mA9mO0KtSjLe+1ajcA",
      "include_colab_link": true
    },
    "kernelspec": {
      "name": "python3",
      "display_name": "Python 3"
    }
  },
  "cells": [
    {
      "cell_type": "markdown",
      "metadata": {
        "id": "view-in-github",
        "colab_type": "text"
      },
      "source": [
        "<a href=\"https://colab.research.google.com/github/AviratGupta/covid-19-tracker/blob/master/covid_tracker_py.ipynb\" target=\"_parent\"><img src=\"https://colab.research.google.com/assets/colab-badge.svg\" alt=\"Open In Colab\"/></a>"
      ]
    },
    {
      "cell_type": "code",
      "metadata": {
        "id": "PRBLH7XkEu_P",
        "colab_type": "code",
        "colab": {
          "base_uri": "https://localhost:8080/",
          "height": 462
        },
        "outputId": "d12b6d7a-de13-4fd0-d9c9-a6254d8e7083"
      },
      "source": [
        "!pip install covid"
      ],
      "execution_count": 20,
      "outputs": [
        {
          "output_type": "stream",
          "text": [
            "Collecting covid\n",
            "  Downloading https://files.pythonhosted.org/packages/70/c0/f90223048a7657af97c013234a25243dd13b3ddcfa9a522ab10556502c97/covid-2.4.0.tar.gz\n",
            "  Installing build dependencies ... \u001b[?25l\u001b[?25hdone\n",
            "  Getting requirements to build wheel ... \u001b[?25l\u001b[?25hdone\n",
            "    Preparing wheel metadata ... \u001b[?25l\u001b[?25hdone\n",
            "Requirement already satisfied: requests in /usr/local/lib/python3.6/dist-packages (from covid) (2.23.0)\n",
            "Collecting typer\n",
            "  Downloading https://files.pythonhosted.org/packages/90/34/d138832f6945432c638f32137e6c79a3b682f06a63c488dcfaca6b166c64/typer-0.3.2-py3-none-any.whl\n",
            "Collecting pydantic\n",
            "\u001b[?25l  Downloading https://files.pythonhosted.org/packages/aa/5f/855412ad12817ae87f1c77d3af2fc384eaed3adfb8f3994816d75483fa20/pydantic-1.6.1-cp36-cp36m-manylinux2014_x86_64.whl (8.7MB)\n",
            "\u001b[K     |████████████████████████████████| 8.7MB 5.6MB/s \n",
            "\u001b[?25hRequirement already satisfied: beautifulsoup4 in /usr/local/lib/python3.6/dist-packages (from covid) (4.6.3)\n",
            "Requirement already satisfied: certifi>=2017.4.17 in /usr/local/lib/python3.6/dist-packages (from requests->covid) (2020.6.20)\n",
            "Requirement already satisfied: idna<3,>=2.5 in /usr/local/lib/python3.6/dist-packages (from requests->covid) (2.10)\n",
            "Requirement already satisfied: urllib3!=1.25.0,!=1.25.1,<1.26,>=1.21.1 in /usr/local/lib/python3.6/dist-packages (from requests->covid) (1.24.3)\n",
            "Requirement already satisfied: chardet<4,>=3.0.2 in /usr/local/lib/python3.6/dist-packages (from requests->covid) (3.0.4)\n",
            "Requirement already satisfied: click<7.2.0,>=7.1.1 in /usr/local/lib/python3.6/dist-packages (from typer->covid) (7.1.2)\n",
            "Requirement already satisfied: dataclasses>=0.6; python_version < \"3.7\" in /usr/local/lib/python3.6/dist-packages (from pydantic->covid) (0.7)\n",
            "Building wheels for collected packages: covid\n",
            "  Building wheel for covid (PEP 517) ... \u001b[?25l\u001b[?25hdone\n",
            "  Created wheel for covid: filename=covid-2.4.0-cp36-none-any.whl size=9609 sha256=c68fbf87ea76448b0a56c3545de274bde7f07060253fa46bf475e5f5e4a740a1\n",
            "  Stored in directory: /root/.cache/pip/wheels/57/30/a3/102c5b090ee109cc5e6c6bcc95f579ee81a829d9dc9ee42e3c\n",
            "Successfully built covid\n",
            "Installing collected packages: typer, pydantic, covid\n",
            "Successfully installed covid-2.4.0 pydantic-1.6.1 typer-0.3.2\n"
          ],
          "name": "stdout"
        }
      ]
    },
    {
      "cell_type": "code",
      "metadata": {
        "id": "sP9uyPnuEsdp",
        "colab_type": "code",
        "colab": {
          "base_uri": "https://localhost:8080/",
          "height": 296
        },
        "outputId": "20bcf850-d5f6-499b-fda4-a41c177f1dc7"
      },
      "source": [
        "from covid import Covid\n",
        "import matplotlib.pyplot as plt\n",
        "\n",
        "covid = Covid()\n",
        "\n",
        "name = input(\"Enter the country name : \")\n",
        "data = covid.get_status_by_country_name(name)\n",
        "\n",
        "remove = [\"id\",\"country\",\"latitude\",\"longitude\",\"last_update\"]\n",
        "\n",
        "for i in remove:\n",
        "    data.pop(i)\n",
        "all = data.pop(\"confirmed\")\n",
        "id = list(data.keys())\n",
        "value = [str(i) for i in data.values()]\n",
        "\n",
        "plt.pie(value,labels = id,colors = ['r','y','g','b'],autopct = \"%1.1f%%\")\n",
        "plt.title(\"COUNTRY : \"+name +\"\\n TOTAL CASES : \"+ str(all))\n",
        "plt.legend()\n",
        "plt.show()"
      ],
      "execution_count": 21,
      "outputs": [
        {
          "output_type": "stream",
          "text": [
            "Enter the country name : india\n"
          ],
          "name": "stdout"
        },
        {
          "output_type": "display_data",
          "data": {
            "image/png": "[encoded data removed]",
            "text/plain": [
              "<Figure size 432x288 with 1 Axes>"
            ]
          },
          "metadata": {
            "tags": []
          }
        }
      ]
    }
  ]
}